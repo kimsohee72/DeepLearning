{
  "nbformat": 4,
  "nbformat_minor": 0,
  "metadata": {
    "colab": {
      "private_outputs": true,
      "provenance": [],
      "gpuType": "T4",
      "mount_file_id": "1KU2EWtpN_2ZfDhks3HcQdYC9b_Z64lXg",
      "authorship_tag": "ABX9TyOKysEh39jIFZZcYfaiWFH1",
      "include_colab_link": true
    },
    "kernelspec": {
      "name": "python3",
      "display_name": "Python 3"
    },
    "language_info": {
      "name": "python"
    },
    "accelerator": "GPU",
    "gpuClass": "standard"
  },
  "cells": [
    {
      "cell_type": "markdown",
      "metadata": {
        "id": "view-in-github",
        "colab_type": "text"
      },
      "source": [
        "<a href=\"https://colab.research.google.com/github/kimsohee72/DeepLearning/blob/main/%EB%94%A5%EB%9F%AC%EB%8B%9D_%ED%8C%80%ED%94%8C.ipynb\" target=\"_parent\"><img src=\"https://colab.research.google.com/assets/colab-badge.svg\" alt=\"Open In Colab\"/></a>"
      ]
    },
    {
      "cell_type": "code",
      "source": [
        "!unzip -qq \"/content/drive/MyDrive/yolo.zip\"  "
      ],
      "metadata": {
        "id": "n7day4xs8bXt"
      },
      "execution_count": null,
      "outputs": []
    },
    {
      "cell_type": "code",
      "source": [
        "from google.colab import drive\n",
        "drive.mount('/content/drive')"
      ],
      "metadata": {
        "id": "1cUJxQsnLjz0"
      },
      "execution_count": null,
      "outputs": []
    },
    {
      "cell_type": "code",
      "source": [
        "%cd /content/drive/MyDrive/yolo/yolo/\n",
        "!unzip -qq \"/content/drive/MyDrive/yolo/yolo/Kkacdugi_Labels.zip\""
      ],
      "metadata": {
        "id": "rJ9haucK5Csr"
      },
      "execution_count": null,
      "outputs": []
    },
    {
      "cell_type": "code",
      "source": [
        "%cd /content/drive/MyDrive/\n",
        "!unzip -uq \"/content/drive/MyDrive/dkdkdkdkd.zip\" -d \"/content/drive/MyDrive/yolo2\""
      ],
      "metadata": {
        "id": "d__cyUrqb5AE"
      },
      "execution_count": null,
      "outputs": []
    },
    {
      "cell_type": "code",
      "execution_count": null,
      "metadata": {
        "id": "YPnEaxqa7rvc"
      },
      "outputs": [],
      "source": [
        "%cd /content/\n",
        "!git clone http://github.com/ultralytics/yolov5"
      ]
    },
    {
      "cell_type": "code",
      "source": [
        "%cd yolov5\n",
        "!pip install -r requirements.txt "
      ],
      "metadata": {
        "id": "Sg_hPiTT8OAK"
      },
      "execution_count": null,
      "outputs": []
    },
    {
      "cell_type": "code",
      "source": [
        "!python train.py --data /content/drive/MyDrive/yolo2/data.yaml --cfg /content/yolov5/models/yolov5s.yaml --weight yolov5s.pt --batch 8 --epochs 200 --name kimchi"
      ],
      "metadata": {
        "id": "Q4VFveiudD5r"
      },
      "execution_count": null,
      "outputs": []
    },
    {
      "cell_type": "code",
      "source": [
        "%load_ext tensorboard\n",
        "%reload_ext tensorboard\n",
        "%tensorboard --logdir /content/yolov5/runs/"
      ],
      "metadata": {
        "id": "1t2Vbxe5Xrbd"
      },
      "execution_count": null,
      "outputs": []
    },
    {
      "cell_type": "code",
      "source": [
        "!python val.py --data \"/content/drive/MyDrive/yolo2/data.yaml\" --img 1280 --weights \"/content/yolov5/runs/train/kimchi/weights/best.pt\""
      ],
      "metadata": {
        "id": "I088Ztz5d38X"
      },
      "execution_count": null,
      "outputs": []
    },
    {
      "cell_type": "code",
      "source": [
        "!python detect.py --img 1280 --weights \"/content/yolov5/runs/train/kimchi/weights/best.pt\" --source \"/content/gat.jpg\""
      ],
      "metadata": {
        "id": "JxSsMC0ok2gU"
      },
      "execution_count": null,
      "outputs": []
    },
    {
      "cell_type": "code",
      "source": [
        "!python detect.py --img 1280 --weights \"/content/yolov5/runs/train/kimchi/weights/best.pt\" --source \"/content/baek.png\" "
      ],
      "metadata": {
        "id": "w76xOjoklwGM"
      },
      "execution_count": null,
      "outputs": []
    },
    {
      "cell_type": "code",
      "source": [
        "!python detect.py --img 1280 --weights \"/content/yolov5/runs/train/kimchi/weights/best.pt\" --source \"/content/buchu.jpg\""
      ],
      "metadata": {
        "id": "FLplol3n4Mya"
      },
      "execution_count": null,
      "outputs": []
    },
    {
      "cell_type": "code",
      "source": [
        "!python detect.py --img 1280 --weights \"/content/yolov5/runs/train/kimchi/weights/best.pt\" --source \"/content/chong.jpg\""
      ],
      "metadata": {
        "id": "t9rS5oyGWI8D"
      },
      "execution_count": null,
      "outputs": []
    },
    {
      "cell_type": "code",
      "source": [
        "!python detect.py --img 1280 --weights \"/content/yolov5/runs/train/kimchi/weights/best.pt\" --source \"/content/kakk.jpg\""
      ],
      "metadata": {
        "id": "4CC6b46QWTA3"
      },
      "execution_count": null,
      "outputs": []
    },
    {
      "cell_type": "code",
      "source": [
        "!python detect.py --img 1280 --weights \"/content/yolov5/runs/train/kimchi/weights/best.pt\" --source \"/content/mu.jpg\""
      ],
      "metadata": {
        "id": "YptGYIUq4TQW"
      },
      "execution_count": null,
      "outputs": []
    },
    {
      "cell_type": "code",
      "source": [
        "!python detect.py --img 1280 --weights \"/content/yolov5/runs/train/kimchi/weights/best.pt\" --source \"/content/nabak.jpg\""
      ],
      "metadata": {
        "id": "DRNBM0zM4TpM"
      },
      "execution_count": null,
      "outputs": []
    },
    {
      "cell_type": "code",
      "source": [
        "!python detect.py --img 1280 --weights \"/content/yolov5/runs/train/kimchi/weights/best.pt\" --source \"/content/oui.jpg\""
      ],
      "metadata": {
        "id": "gj7KjNGv4T22"
      },
      "execution_count": null,
      "outputs": []
    },
    {
      "cell_type": "code",
      "source": [
        "!python detect.py --img 1280 --weights \"/content/yolov5/runs/train/kimchi/weights/best.pt\" --source \"/content/pa.jpg\""
      ],
      "metadata": {
        "id": "RlDRbooJ4UBJ"
      },
      "execution_count": null,
      "outputs": []
    },
    {
      "cell_type": "code",
      "source": [
        "!python detect.py --img 1280 --weights \"/content/yolov5/runs/train/kimchi/weights/best.pt\" --source \"/content/yeol.jpg\""
      ],
      "metadata": {
        "id": "ETop4lDH4UL1"
      },
      "execution_count": null,
      "outputs": []
    },
    {
      "cell_type": "code",
      "source": [
        "!python detect.py --img 1280 --weights \"/content/yolov5/runs/train/kimchi/weights/best.pt\" --source \"/content/be.jpg\""
      ],
      "metadata": {
        "id": "UPc4mQpn4UXk"
      },
      "execution_count": null,
      "outputs": []
    },
    {
      "cell_type": "code",
      "source": [
        "!zip -r /content/drive/MyDrive/result.zip /content/yolov5/runs/val/exp/"
      ],
      "metadata": {
        "id": "kWEHAan-4lai"
      },
      "execution_count": null,
      "outputs": []
    },
    {
      "cell_type": "code",
      "source": [],
      "metadata": {
        "id": "rclgKeV_8bgi"
      },
      "execution_count": null,
      "outputs": []
    }
  ]
}